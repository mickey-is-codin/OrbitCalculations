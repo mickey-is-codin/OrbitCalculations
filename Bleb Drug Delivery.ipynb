{
 "cells": [
  {
   "cell_type": "code",
   "execution_count": 1,
   "metadata": {},
   "outputs": [],
   "source": [
    "import math\n",
    "import numpy as np"
   ]
  },
  {
   "cell_type": "code",
   "execution_count": 3,
   "metadata": {},
   "outputs": [],
   "source": [
    "class GetInput(object):\n",
    "    def get_eye(self):\n",
    "        self.eye_radius = float(input(\"Radius of the eyeball in mm: \"))\t\t#Method for getting eyeball radius input\n",
    "        return self.eye_radius\n",
    "\n",
    "    def get_bleb(self):\n",
    "        self.bleb_radius = float(input(\"Radius of the bleb in mm: \"))\t\t#Method for getting bleb radius input\n",
    "        return self.bleb_radius\n",
    "\n",
    "    def get_dx(self):\n",
    "        self.dx = float(input(\"Space division for integration (dx), recommended 0.001 or smaller: \"))\t\t#Method for getting space division input\n",
    "        return self.dx"
   ]
  },
  {
   "cell_type": "code",
   "execution_count": 8,
   "metadata": {},
   "outputs": [],
   "source": [
    "def get_volume(r):\n",
    "    volume = (4/3) * math.pi * r**3\t\t\t\t\t\t\t\t\t#Using the generic volume of a sphere equation\n",
    "    return volume"
   ]
  },
  {
   "cell_type": "code",
   "execution_count": 9,
   "metadata": {},
   "outputs": [],
   "source": [
    "def get_area(r):\n",
    "    area = 4 * math.pi * r**2\t\t\t\t\t\t\t\t\t\t#Using the generic surface area of a sphere equation\n",
    "    return area"
   ]
  },
  {
   "cell_type": "code",
   "execution_count": 10,
   "metadata": {},
   "outputs": [],
   "source": [
    "def intersection_x(r, R):\t\n",
    "    meet_point = math.sqrt((-1)*r**4 + 4 * r**2 * R**2)/(2 * R)\t\t#Solve both circle equations for y and set them equal. Wolfram Alpha used for algebra.\n",
    "    return meet_point"
   ]
  },
  {
   "cell_type": "code",
   "execution_count": 11,
   "metadata": {},
   "outputs": [],
   "source": [
    "def intersection_y(r, R):\n",
    "    meet_point = r**2 / (2 * R)\t\t\t\t\t\t\t\t\t\t#Solve both circle equations for x and set them equal. Wolfram Alpha used for algebra.\n",
    "    return meet_point"
   ]
  },
  {
   "cell_type": "code",
   "execution_count": 34,
   "metadata": {},
   "outputs": [],
   "source": [
    "def quad1_x_section(r, R, meet_point, dx):\n",
    "\n",
    "    N = int(meet_point / dx)\t\t\t\t\t\t\t\t\t\t#Number of points along x axis that we will use as solutions of integration\n",
    "    nums = [x*dx for x in range(0,N)]\t\t\t\t\t\t\t\t#Setting an array to iterate through for all of the solution points of integration\n",
    "\n",
    "    eye_points = []\t\t\t\t\t\t\t\t\t\t\t\t\t#Blank array for all of the points solved along the eyeball's curve\n",
    "    bleb_points = []\t\t\t\t\t\t\t\t\t\t\t\t#Blank array for all of the points solved along the bleb's curve\n",
    "    area = 0\t\t\t\t\t\t\t\t\t\t\t\t\t\t#Will build the area by iteratively multiplying the point by dx to give incremental solution\n",
    "\n",
    "    for n in range(0,N-1):\n",
    "        eye_points.append(R - math.sqrt(R**2 - nums[n]**2))\n",
    "        bleb_points.append(math.sqrt(r**2 - nums[n]**2))\n",
    "        area = area + bleb_points[n]*dx - eye_points[n]*dx\n",
    "    return area"
   ]
  },
  {
   "cell_type": "code",
   "execution_count": 37,
   "metadata": {},
   "outputs": [],
   "source": [
    "def rev_integral(r, R, meet_point_x, meet_point_y, dx):\n",
    "    #----Volume of the shape made by both curves rotated about y-axis----#\n",
    "\n",
    "    '''Made with the understanding that \n",
    "        V = integral from 0 to meet_point_y of pi * bleb equation^2 \n",
    "        + integral from meet_point_y to r of pi * eye equation^2'''\n",
    "\n",
    "    N_1 = int(meet_point_y / dx)\t\t\t\t\t\t\t\t\t#Using two different ranges because of two integration bounds\n",
    "    N_2 = int((r - meet_point_y) / dx)\t\t\t\t\t\t\t\t#First range is 0 to meet_y, second is meet_y to r because we integrate wrt y\n",
    "\n",
    "    nums_1 = [y*dx for y in range(0,N_1)]\t\t\t\t\t\t\t#Create an array of all the y-axis solution points\n",
    "    nums_2 = [y*dx for y in range(0,N_2)]\t\t\t\t\t\t\t#Create another array of the y-axis solution points for the eyeball curve\n",
    "\n",
    "    eye_integral = []\t\t\t\t\t\t\t\t\t\t\t\t#Blank array for all of the points solved along the eyeball's curve\n",
    "    bleb_integral = []\t\t\t\t\t\t\t\t\t\t\t\t#Blank array for all of the points solved along the bleb's curve\n",
    "    volume_eye = 0\t\t\t\t\t\t\t\t\t\t\t\t\t#Will build the integral by iteratively multiplying the point by dx to give incremental solution\n",
    "    volume_bleb = 0\t\t\t\t\t\t\t\t\t\t\t\t\t#Will build the integral by iteratively multiplying the point by dx to give incremental solution\n",
    "\n",
    "    for n in range(0,N_2-1):\n",
    "        eye_integral.append(math.pi * (math.sqrt(nums_2[n]) * math.sqrt(2 * R - nums_2[n]))**2)\n",
    "        volume_eye = volume_eye + eye_integral[n]*dx\n",
    "\n",
    "    for n in range(0,N_1-1):\n",
    "        bleb_integral.append(math.pi * (math.sqrt(r**2 - nums_1[n]**2))**2)\n",
    "        volume_bleb = volume_bleb + bleb_integral[n]*dx\n",
    "\n",
    "    rev_volume = volume_eye + volume_bleb\t\t\t\t\t\t\t#Sum of the two integrals shoudl be the volume\n",
    "    return rev_volume"
   ]
  },
  {
   "cell_type": "code",
   "execution_count": 46,
   "metadata": {},
   "outputs": [],
   "source": [
    "def surface_integral(r, R, meet_point_x, meet_point_y, dx):\n",
    "\n",
    "    #----Surface area of the shape made by both curves rotated about y-axis----#\n",
    "\n",
    "    '''Made with the understanding that \n",
    "        Area = integral from 0 to meet_point_y of 2 * pi * bleb equation\n",
    "        + integral from meet_point_y to r of 2 * pi * eye equation'''\n",
    "\n",
    "    #----Function is the same as that used to gather volume of revolution values, but using 2 * pi * radius to drive the equations----#\n",
    "\n",
    "\n",
    "    N_1 = int(meet_point_y / dx)\n",
    "    N_2 = int((r - meet_point_y) / dx)\n",
    "\n",
    "    nums_1 = [y*dx for y in range(0,N_1)]\n",
    "    nums_2 = [y*dx for y in range(0,N_2)]\n",
    "\n",
    "    eye_integral = []\n",
    "    bleb_integral = []\n",
    "    surface_eye = 0\n",
    "    surface_bleb = 0\n",
    "\n",
    "    for n in range(0,N_2-1):\n",
    "        eye_integral.append(2 * math.pi * (math.sqrt(nums_2[n]) * math.sqrt(2 * R - nums_2[n])))\n",
    "        surface_eye = surface_eye + eye_integral[n]*dx\n",
    "\n",
    "\n",
    "    for n in range(0,N_1-1):\n",
    "        bleb_integral.append(2 * math.pi * (math.sqrt(r**2 - nums_1[n]**2)))\n",
    "        surface_bleb = surface_bleb + bleb_integral[n]*dx\n",
    "\n",
    "    surface_area = surface_eye + surface_bleb\n",
    "    \n",
    "    print(\"Full surface area of the bleb contained in the eye: %.2f square mm\" % surface_area)\n",
    "    print(\"Surface area of the bleb receiving drug: %.2f square mm\" % surface_eye)\n",
    "    print(\"Surface area of the eye that the bleb is underneath: %.2f square mm\" % surface_bleb)\n",
    "    \n",
    "    return surface_area"
   ]
  },
  {
   "cell_type": "code",
   "execution_count": 16,
   "metadata": {},
   "outputs": [],
   "source": [
    "fetch_input = GetInput()\t\t\t\t\t\t\t\t\t#Create an instance of the input getting class so we can use it for further input"
   ]
  },
  {
   "cell_type": "code",
   "execution_count": 17,
   "metadata": {},
   "outputs": [
    {
     "name": "stdout",
     "output_type": "stream",
     "text": [
      "Radius of the eyeball in mm: 23\n"
     ]
    }
   ],
   "source": [
    "eye_radius = fetch_input.get_eye()\t\t\t\t\t\t\t#Eyeball radius in mm"
   ]
  },
  {
   "cell_type": "code",
   "execution_count": 18,
   "metadata": {},
   "outputs": [
    {
     "name": "stdout",
     "output_type": "stream",
     "text": [
      "Radius of the bleb in mm: 8\n"
     ]
    }
   ],
   "source": [
    "bleb_radius = fetch_input.get_bleb()\t\t\t\t\t\t#Bleb radius in mm"
   ]
  },
  {
   "cell_type": "code",
   "execution_count": 19,
   "metadata": {},
   "outputs": [
    {
     "name": "stdout",
     "output_type": "stream",
     "text": [
      "Space division for integration (dx), recommended 0.001 or smaller: .0001\n"
     ]
    }
   ],
   "source": [
    "dx = fetch_input.get_dx()\t\t\t\t\t\t\t\t\t#Get the desired time division for integration"
   ]
  },
  {
   "cell_type": "code",
   "execution_count": 20,
   "metadata": {},
   "outputs": [],
   "source": [
    "eye_volume = get_volume(eye_radius)\t\t\t\t\t\t\t#Eyeball volume in mm^3"
   ]
  },
  {
   "cell_type": "code",
   "execution_count": 21,
   "metadata": {},
   "outputs": [
    {
     "data": {
      "text/plain": [
       "50965.01042163601"
      ]
     },
     "execution_count": 21,
     "metadata": {},
     "output_type": "execute_result"
    }
   ],
   "source": [
    "eye_volume"
   ]
  },
  {
   "cell_type": "code",
   "execution_count": 22,
   "metadata": {},
   "outputs": [],
   "source": [
    "bleb_volume = get_volume(bleb_radius)\t\t\t\t\t\t#Bleb volume in mm^3"
   ]
  },
  {
   "cell_type": "code",
   "execution_count": 23,
   "metadata": {},
   "outputs": [
    {
     "data": {
      "text/plain": [
       "2144.660584850632"
      ]
     },
     "execution_count": 23,
     "metadata": {},
     "output_type": "execute_result"
    }
   ],
   "source": [
    "bleb_volume"
   ]
  },
  {
   "cell_type": "code",
   "execution_count": 24,
   "metadata": {},
   "outputs": [],
   "source": [
    "eye_area = get_area(eye_radius)\t\t\t\t\t\t\t\t#Eyeball surface area in mm^2"
   ]
  },
  {
   "cell_type": "code",
   "execution_count": 25,
   "metadata": {},
   "outputs": [
    {
     "data": {
      "text/plain": [
       "6647.610054996002"
      ]
     },
     "execution_count": 25,
     "metadata": {},
     "output_type": "execute_result"
    }
   ],
   "source": [
    "eye_area"
   ]
  },
  {
   "cell_type": "code",
   "execution_count": 26,
   "metadata": {},
   "outputs": [],
   "source": [
    "bleb_area = get_area(bleb_radius)\t\t\t\t\t\t\t#Bleb surface area in mm^2"
   ]
  },
  {
   "cell_type": "code",
   "execution_count": 27,
   "metadata": {},
   "outputs": [
    {
     "data": {
      "text/plain": [
       "804.247719318987"
      ]
     },
     "execution_count": 27,
     "metadata": {},
     "output_type": "execute_result"
    }
   ],
   "source": [
    "bleb_area"
   ]
  },
  {
   "cell_type": "code",
   "execution_count": 28,
   "metadata": {},
   "outputs": [],
   "source": [
    "meet_point_x = intersection_x(bleb_radius, eye_radius)\t\t\t#The x location of the intersection of the two circles"
   ]
  },
  {
   "cell_type": "code",
   "execution_count": 29,
   "metadata": {},
   "outputs": [],
   "source": [
    "meet_point_y = intersection_y(bleb_radius, eye_radius)\t\t\t#The y locaiton of the intersection of the two circles"
   ]
  },
  {
   "cell_type": "code",
   "execution_count": 40,
   "metadata": {},
   "outputs": [],
   "source": [
    "quad1_area = quad1_x_section(bleb_radius, eye_radius, meet_point_x, dx)\t\t\t#The cross sectional area between the two circles contained in quadrant I"
   ]
  },
  {
   "cell_type": "code",
   "execution_count": 42,
   "metadata": {},
   "outputs": [
    {
     "data": {
      "text/plain": [
       "46.544405102626804"
      ]
     },
     "execution_count": 42,
     "metadata": {},
     "output_type": "execute_result"
    }
   ],
   "source": [
    "quad1_area"
   ]
  },
  {
   "cell_type": "code",
   "execution_count": 43,
   "metadata": {},
   "outputs": [],
   "source": [
    "rev_volume = rev_integral(bleb_radius, eye_radius, meet_point_x, meet_point_y, dx)\t#Volume of the cross section revolved around the y axis"
   ]
  },
  {
   "cell_type": "code",
   "execution_count": 44,
   "metadata": {},
   "outputs": [
    {
     "data": {
      "text/plain": [
       "3130.2385565449445"
      ]
     },
     "execution_count": 44,
     "metadata": {},
     "output_type": "execute_result"
    }
   ],
   "source": [
    "rev_volume"
   ]
  },
  {
   "cell_type": "code",
   "execution_count": 47,
   "metadata": {},
   "outputs": [
    {
     "name": "stdout",
     "output_type": "stream",
     "text": [
      "Full surface area of the bleb contained in the eye: 530.84 square mm\n",
      "Surface area of the bleb receiving drug: 461.27 square mm\n",
      "Surface area of the eye that the bleb is underneath: 69.58 square mm\n"
     ]
    }
   ],
   "source": [
    "surface_area = surface_integral(bleb_radius, eye_radius, meet_point_x, meet_point_y, dx)\t#Surface of the volume created by revolution"
   ]
  },
  {
   "cell_type": "code",
   "execution_count": null,
   "metadata": {},
   "outputs": [],
   "source": []
  }
 ],
 "metadata": {
  "kernelspec": {
   "display_name": "Orbit-GuyapmWq",
   "language": "python",
   "name": "orbit-guyapmwq"
  },
  "language_info": {
   "codemirror_mode": {
    "name": "ipython",
    "version": 3
   },
   "file_extension": ".py",
   "mimetype": "text/x-python",
   "name": "python",
   "nbconvert_exporter": "python",
   "pygments_lexer": "ipython3",
   "version": "3.7.0"
  }
 },
 "nbformat": 4,
 "nbformat_minor": 2
}
